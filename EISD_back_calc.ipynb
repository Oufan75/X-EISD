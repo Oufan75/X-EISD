{
 "cells": [
  {
   "cell_type": "code",
   "execution_count": 210,
   "metadata": {},
   "outputs": [],
   "source": [
    "import numpy as np\n",
    "from autoeisd.utils.parsers import get_backbone_pdb # borrowed from idpconfgen\n",
    "from idpconfgen.libs.libcalc import calc_torsion_angles\n"
   ]
  },
  {
   "cell_type": "code",
   "execution_count": 211,
   "metadata": {},
   "outputs": [],
   "source": [
    "import os\n",
    "import time"
   ]
  },
  {
   "cell_type": "code",
   "execution_count": 214,
   "metadata": {},
   "outputs": [],
   "source": [
    "from Bio.PDB import PDBParser as parser\n",
    "import pandas as pd"
   ]
  },
  {
   "cell_type": "code",
   "execution_count": 215,
   "metadata": {},
   "outputs": [],
   "source": [
    "cm = 1/2.54\n",
    "np.random.seed(12)"
   ]
  },
  {
   "cell_type": "code",
   "execution_count": null,
   "metadata": {},
   "outputs": [],
   "source": []
  },
  {
   "cell_type": "code",
   "execution_count": 23,
   "metadata": {},
   "outputs": [],
   "source": [
    "asyn_seq = 'MDVFMKGLSKAKEGVVAAAEKTKQGVAEAAGKTKEGVLYVGSKTKEGVVHGVATVAEKTKEQVTNVGGAV\\\n",
    "VTGVTAVAQKTVEGAGSIAAATGFVKKDQLGKNEEGAPQEGILEDMPVDPDNEAYEMPSEEGYQDYEPEA' \n",
    "drk_seq = 'MEAIAKHDFSATADDELSFRKTQILKILNMEDDSNWYRAELDGKEGLIPSNYIEMKNHD'"
   ]
  },
  {
   "cell_type": "code",
   "execution_count": 217,
   "metadata": {},
   "outputs": [],
   "source": [
    "# read JC exp file\n",
    "exp = pd.read_csv('/home/oufan/Desktop/X-EISD/data/drk/experimental_data/drksh3_JC_exp_clean.txt')\n",
    "# align torsion index as the first residue doesn't have phi torsion\n",
    "resn = exp.resnum.values - 2"
   ]
  },
  {
   "cell_type": "code",
   "execution_count": 236,
   "metadata": {},
   "outputs": [],
   "source": [
    "# read NOE exp file\n",
    "exp = pd.read_csv('/home/oufan/Desktop/X-EISD/data/drk/experimental_data/8AAC_noes.txt')\n",
    "res1 = exp.res1.values.astype(np.int)\n",
    "atom1_name = exp.atom1.values\n",
    "res2 = exp.res2.values.astype(np.int)\n",
    "atom2_name = exp.atom2.values\n",
    "\n",
    "multi1 = exp.atom1_multiple_assignments.values\n",
    "multi2 = exp.atom2_multiple_assignments.values"
   ]
  },
  {
   "cell_type": "code",
   "execution_count": 6,
   "metadata": {},
   "outputs": [],
   "source": [
    "#read PREs exp file\n",
    "exp = pd.read_csv('/home/oufan/Desktop/X-EISD/data/asyn/experimental_data/asyn_pres.txt')\n",
    "res1 = exp.res1.values.astype(np.int)\n",
    "atom1_name = exp.atom1.values\n",
    "res2 = exp.res2.values.astype(np.int)\n",
    "atom2_name = exp.atom2.values"
    ]
  },
  {
   "cell_type": "code",
   "execution_count": 228,
   "metadata": {},
   "outputs": [],
   "source": [
    "# read EFRET exp file (format modified)\n",
    "# the EFRET exp file format is based on aSyn repository:\n",
    "# column names: index, res1, res2, scaler, value\n",
    "# where scaler is the r0 Foster radius of the dye pair\n",
    "exp = pd.read_csv('/home/oufan/Desktop/X-EISD/data/asyn/experimental_data/asyn_efret.txt')\n",
    "res1 = exp.res1.values.astype(np.int)\n",
    "res2 = exp.res2.values.astype(np.int)\n",
    "scaler = exp.scale.values\n",
    "\n",
    "# generates smFRET back calculation data\n",
    "fret_bc = []\n",
    "p = parser()\n",
    "for n in range(200):\n",
    "    # read pdb files to back calculate\n",
    "    pdb = 'local/recurrent_attention_residue/training_5/reinforce/prejc_pdbs/gen_%i.pdb'%(n+1)\n",
    "    struct = p.get_structure('d', pdb)\n",
    "    # assumes CA as atom labeled\n",
    "    for j in range(exp.shape[0]):\n",
    "        r1 = np.int(res1[j])\n",
    "        r2 = np.int(res2[j])\n",
    "        d = struct[0]['A'][r1]['CA'] - struct[0]['A'][r2]['CA'] \n",
    "        # 58 = abs(res1 - res2) # for drk \n",
    "        # scale_factor to adjust for dye size and CA to label distances\n",
    "        scale_factor = ((np.abs(r1 - r2) + 7) / np.abs(r1 - r2)) ** 0.5\n",
    "        d = d*scale_factor\n",
    "        eff = 1.0/(1.0+(d/scaler[j])**6.0)\n",
    "        #assert isinstance(eff, np.ndarray)\n",
    "        fret_bc.append(eff)\n",
    "    if n%100 ==0: time.sleep(5)\n",
    "fret_bc = np.reshape(fret_bc, (-1, exp.shape[0]))\n"
   ]
  },
  {
   "cell_type": "code",
   "execution_count": 219,
   "metadata": {},
   "outputs": [],
   "source": [
    "#PREs\n",
    "p = parser()\n",
    "pre_bc = []\n",
    "jc_bc = []\n",
    "for n in range(200):\n",
    "    pdb = 'local/recurrent_attention_residue/training_25/reinforce/noejc2_pdbs/gen_%i.pdb'%(n+1)\n",
    "    struct = p.get_structure('d', pdb)\n",
    "    # calculates JC back calculation alphas\n",
    "    coords = next(get_backbone_pdb(pdb, 1))[0]\n",
    "    alpha = np.cos(calc_torsion_angles(coords)[2::3][resn] - np.radians(60))\n",
    "    jc_bc.append(alpha)\n",
    "    # fetch PRE distances\n",
    "    dist = []\n",
    "    for j in range(exp.shape[0]):\n",
    "        r1 = np.int(res1[j])\n",
    "        r2 = np.int(res2[j])\n",
    "        for atom in struct[0]['A'][r1]:            \n",
    "            if atom1_name[j] == 'H':\n",
    "                atom1 = struct[0]['A'][r1]['H']\n",
    "                break\n",
    "            if atom1_name[j] in atom.get_name():\n",
    "                atom1 = atom\n",
    "                break\n",
    "        for atom in struct[0]['A'][r2]:\n",
    "            if atom2_name[j] == 'H':\n",
    "                atom2 = struct[0]['A'][r2]['H']\n",
    "                break\n",
    "            if atom2_name[j] in atom.get_name():\n",
    "                atom2 = atom\n",
    "                break\n",
    "        #print(atom1_list, r1, atom1_name[j])\n",
    "\n",
    "        dist.append(atom1-atom2)\n",
    "        \n",
    "    pre_bc.append(dist)\n",
    "    if n%50 == 0 : time.sleep(5)"
   ]
  },
  {
   "cell_type": "code",
   "execution_count": 257,
   "metadata": {},
   "outputs": [],
   "source": [
    "#NOES\n",
    "p = parser()\n",
    "noe_bc = []\n",
    "for n in range(200):\n",
    "    pdb = 'local/recurrent_attention_residue/training_25/reinforce/noejc2_pdbs/gen_%i.pdb'%(n+1)\n",
    "    struct = p.get_structure('d', pdb)\n",
    "    dist = []\n",
    "    for j in range(exp.shape[0]):\n",
    "        r1 = np.int(res1[j])\n",
    "        r2 = np.int(res2[j])\n",
    "        atom1_list = []\n",
    "        atom2_list = []\n",
    "        for atom in struct[0]['A'][r1]:            \n",
    "            if atom1_name[j] == 'H':\n",
    "                atom1_list.append(struct[0]['A'][r1]['H'])\n",
    "                break\n",
    "            if atom1_name[j] in atom.get_name():\n",
    "                atom1_list.append(atom)\n",
    "            if len(atom1_list) == 2: break\n",
    "            if not multi1[j] and len(atom1_list)==1:\n",
    "                break\n",
    "        for atom in struct[0]['A'][r2]:\n",
    "            if atom2_name[j] == 'H':\n",
    "                atom2_list.append(struct[0]['A'][r2]['H'])\n",
    "                break\n",
    "            if atom2_name[j] in atom.get_name():\n",
    "                atom2_list.append(atom)\n",
    "            if len(atom2_list) == 2: break\n",
    "            if not multi2[j] and len(atom2_list)==1:\n",
    "                break\n",
    "        #print(atom1_list, r1, atom1_name[j])\n",
    "        combos = 0.0\n",
    "        num_combos = 0\n",
    "        # handles multiple atom assignments by <r^-6>\n",
    "        for first_atom in atom1_list:\n",
    "            for second_atom in atom2_list:\n",
    "                combos += (first_atom - second_atom)**(-6.)\n",
    "                num_combos += 1\n",
    "\n",
    "        dist.append((combos/float(num_combos))**(-1/6))\n",
    "        \n",
    "    noe_bc.append(dist)\n",
    "    if n%50==0: time.sleep(5)"
   ]
  },
  {
   "cell_type": "code",
   "execution_count": 260,
   "metadata": {},
   "outputs": [],
   "source": [
    "# save back calculations as csv\n",
    "#old_alphas = pd.read_csv('/home/oufan/Desktop/X-EISD/data/drk/back_calc_data/ML/rl_noe.txt', header=None, index_col=0)\n",
    "#new = np.vstack((old_alphas.values, np.array(noe_bc)))\n",
    "new_alphas = pd.DataFrame(np.array(noe_bc), index=None) \n",
    "new_alphas.to_csv('/home/oufan/Desktop/X-EISD/data/drk/back_calc_data/ML/rl_noe.txt', header=None)\n"
   ]
  },
  {
   "cell_type": "code",
   "execution_count": 262,
   "metadata": {},
   "outputs": [],
   "source": []
  },
  {
   "cell_type": "code",
   "execution_count": null,
   "metadata": {},
   "outputs": [],
   "source": []
  },
  {
   "cell_type": "code",
   "execution_count": null,
   "metadata": {},
   "outputs": [],
   "source": []
  }
 ],
 "metadata": {
  "kernelspec": {
   "display_name": "idp",
   "language": "python",
   "name": "idp"
  },
  "language_info": {
   "codemirror_mode": {
    "name": "ipython",
    "version": 3
   },
   "file_extension": ".py",
   "mimetype": "text/x-python",
   "name": "python",
   "nbconvert_exporter": "python",
   "pygments_lexer": "ipython3",
   "version": "3.7.10"
  }
 },
 "nbformat": 4,
 "nbformat_minor": 4
}
