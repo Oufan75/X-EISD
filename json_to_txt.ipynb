{
 "cells": [
  {
   "cell_type": "code",
   "execution_count": 1,
   "metadata": {},
   "outputs": [],
   "source": [
    "import pandas as pd\n",
    "import json\n",
    "import numpy as np"
   ]
  },
  {
   "cell_type": "code",
   "execution_count": null,
   "metadata": {},
   "outputs": [],
   "source": [
    "with open(\"4ebp/bc_rh_data.rh\", \"rb\") as f:\n",
    "    data = json.load(f)\n",
    "\n",
    "conf_names = list(data.keys())\n",
    "# use Series b/c rh only has a single value\n",
    "pd.Series(data).T.to_csv(\"4ebp/bc.rh\", header=None)"
   ]
  },
  {
   "cell_type": "code",
   "execution_count": 15,
   "metadata": {},
   "outputs": [],
   "source": [
    "with open(\"4ebp/bc_3291_73121_4ued.fret\", \"rb\") as f:\n",
    "    data = json.load(f)\n",
    "\n",
    "pd.DataFrame(data).T.to_csv(\"4ebp/bc.fret\", header=None)"
   ]
  },
  {
   "cell_type": "code",
   "execution_count": 14,
   "metadata": {},
   "outputs": [
    {
     "data": {
      "text/plain": [
       "True"
      ]
     },
     "execution_count": 14,
     "metadata": {},
     "output_type": "execute_result"
    }
   ],
   "source": [
    "# confirm that back calc data index align\n",
    "rh = pd.read_csv(\"4ebp/bc.rh\",  index_col=0, header=None)\n",
    "fret = pd.read_csv(\"4ebp/bc.fret\", index_col=0, header=None)\n",
    "np.array_equal(rh.index, fret.index)"
   ]
  },
  {
   "cell_type": "code",
   "execution_count": null,
   "metadata": {},
   "outputs": [],
   "source": []
  }
 ],
 "metadata": {
  "kernelspec": {
   "display_name": "chem142",
   "language": "python",
   "name": "python3"
  },
  "language_info": {
   "codemirror_mode": {
    "name": "ipython",
    "version": 3
   },
   "file_extension": ".py",
   "mimetype": "text/x-python",
   "name": "python",
   "nbconvert_exporter": "python",
   "pygments_lexer": "ipython3",
   "version": "3.8.15"
  },
  "orig_nbformat": 4
 },
 "nbformat": 4,
 "nbformat_minor": 2
}
